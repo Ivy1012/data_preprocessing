{
 "cells": [
  {
   "cell_type": "markdown",
   "metadata": {},
   "source": [
    "# data_preprocessing\n",
    "s1. surface temperature  \n",
    "a) Calculate the surface temperature anomaly.\n",
    "The anomaly is achieved by subtracting the annual cycle from the t2m data. \n",
    "Annual cycle: average of the same month of each year."
   ]
  },
  {
   "cell_type": "code",
   "execution_count": 50,
   "metadata": {},
   "outputs": [
    {
     "name": "stdout",
     "output_type": "stream",
     "text": [
      "dict_keys(['longitude', 'latitude', 'time', 't2m'])\n",
      "============================\n",
      "<class 'netCDF4._netCDF4.Variable'>\n",
      "int32 time(time)\n",
      "    units: hours since 1900-01-01 00:00:00.0\n",
      "    long_name: time\n",
      "    calendar: gregorian\n",
      "unlimited dimensions: time\n",
      "current shape = (478,)\n",
      "filling on, default _FillValue of -2147483647 used\n",
      "============================\n"
     ]
    }
   ],
   "source": [
    "# load data\n",
    "%matplotlib inline\n",
    "\n",
    "import numpy as np\n",
    "from netCDF4 import Dataset\n",
    "import matplotlib.pyplot as plt\n",
    "import datetime\n",
    "\n",
    "ncf = Dataset('./data/ERA_interim_t2m_197901_201810.nc')\n",
    "print(ncf.variables.keys())\n",
    "t2m = ncf.variables['t2m'][:,:,:]\n",
    "time = ncf.variables['time'][:]\n",
    "time_units = ncf.variables['time'].units\n",
    "lat = ncf.variables['latitude'][:]\n",
    "lon = ncf.variables['longitude'][:]\n",
    "# print(ncf)\n",
    "print('============================')\n",
    "# print(ncf.variables['latitude'])\n",
    "# print(ncf.variables['longitude'])\n",
    "print(ncf.variables['time'])\n",
    "# print(ncf.variables['t2m'])\n",
    "print('============================')\n",
    "ncf.close()"
   ]
  },
  {
   "cell_type": "code",
   "execution_count": 51,
   "metadata": {},
   "outputs": [
    {
     "name": "stdout",
     "output_type": "stream",
     "text": [
      "the shape of the anomaly of the t2m is  (478, 181, 360)\n"
     ]
    }
   ],
   "source": [
    "# calculate the anomaly by removing the annual_cycle\n",
    "def remove_annual_cycle(var):\n",
    "    '''\n",
    "    This function is to remove the annual cycle of the input variable\n",
    "    monthly data are needed.\n",
    "    \n",
    "    Paras:\n",
    "    var :: 3-D data with the 'time' as the first axis.\n",
    "    \n",
    "    Return:\n",
    "    anomaly of the input variable in the same format of the input\n",
    "    '''\n",
    "    anomaly              =  np.zeros(var.shape)\n",
    "    for ii in range(0,12): \n",
    "        temp                 =  var[ii::12,:,:]\n",
    "        annual_cycle         =  np.mean(temp,axis = 0)\n",
    "        anomaly[ii::12,:,:]      =  var[ii::12,:,:] - annual_cycle\n",
    "    return anomaly\n",
    "\n",
    "t2m_ano = remove_annual_cycle(t2m)\n",
    "print('the shape of the anomaly of the t2m is ', t2m_ano.shape)"
   ]
  },
  {
   "cell_type": "markdown",
   "metadata": {},
   "source": [
    "b) Extract the DJF"
   ]
  },
  {
   "cell_type": "code",
   "execution_count": 53,
   "metadata": {},
   "outputs": [
    {
     "name": "stdout",
     "output_type": "stream",
     "text": [
      "(119, 181, 360)\n",
      "[[-7.23873684 -7.23873684 -7.23873684 ... -7.23873684 -7.23873684\n",
      "  -7.23873684]\n",
      " [-6.9642131  -6.9735175  -6.98501633 ... -6.93261324 -6.94240042\n",
      "  -6.95433814]\n",
      " [-6.75201129 -6.78308448 -6.81297268 ... -6.65681673 -6.68907491\n",
      "  -6.71966533]\n",
      " ...\n",
      " [ 1.04178578  1.03730914  1.0327886  ...  1.04139078  1.04261967\n",
      "   1.04222467]\n",
      " [ 1.01435535  1.00987871  1.00584095 ...  1.01246814  1.01409202\n",
      "   1.01255592]\n",
      " [ 0.80965851  0.80965851  0.80965851 ...  0.80965851  0.80965851\n",
      "   0.80965851]]\n"
     ]
    }
   ],
   "source": [
    "def extract_DJF(var,time,time_units):\n",
    "    '''\n",
    "    This function is to extract specific months from the input varibale.\n",
    "    \n",
    "    Paras:\n",
    "    var        :: 3-D data with the 'time' as the first axis.\n",
    "    time       :: the corresponding time coordinate of the variable.\n",
    "    time_units :: the units of time in the format of gregorian.\n",
    "    \n",
    "    Return:\n",
    "    variables with the extracted months\n",
    "    '''\n",
    "    start_year = int(time_units[-21:-17])\n",
    "    start_month = int(time_units[-16:-14])\n",
    "    start_date = int(time_units[-13:-11])\n",
    "    intervals = time_units.split()[0]\n",
    "    \n",
    "    yyyymm\t\t=\tnp.zeros(len(time), dtype=np.int32)\n",
    "    start_time\t=\tdatetime.datetime(start_year,start_month,start_date)\n",
    "    \n",
    "    for i in range(len(time)): \n",
    "#         it can be changed into command lines.\n",
    "        if intervals == 'hours':    \n",
    "            time_temp\t\t\t=\tstart_time + datetime.timedelta(hours=int(time[i]))\n",
    "        elif intervals == 'days':\n",
    "            time_temp\t\t\t=\tstart_time + datetime.timedelta(days=int(time[i]))\n",
    "        else:\n",
    "            print('ERROR: the intervals of the time units can only be hours or days')\n",
    "                \n",
    "        yyyymm[i]\t\t\t=\tint(time_temp.year * 100 + time_temp.month)\n",
    "\n",
    "    mm\t\t\t\t=\tyyyymm%100\n",
    "    #print(np.min(yyyymm_all),np.max(yyyymm_all))\n",
    "\n",
    "    D_id\t=\tmm\t==\t12\n",
    "    J_id\t=\tmm\t==\t1\n",
    "    F_id\t=\tmm\t==\t2\n",
    "    var_DJF\t=\tvar[D_id|J_id|F_id,:,:]\n",
    "    yyyymm_DJF\t= yyyymm[D_id|J_id|F_id]\n",
    "    \n",
    "    return var_DJF, yyyymm_DJF\n",
    "\n",
    "t2m_DJF, time_DJF = extract_DJF(t2m_ano,time,time_units)\n",
    "print(t2m_DJF.shape)\n",
    "print(t2m_DJF[1,:,:])"
   ]
  },
  {
   "cell_type": "markdown",
   "metadata": {},
   "source": [
    "c) Calculate the average values of South-east of CHINA (20º-40ºN, 100-125ºE)"
   ]
  },
  {
   "cell_type": "code",
   "execution_count": 56,
   "metadata": {},
   "outputs": [
    {
     "name": "stdout",
     "output_type": "stream",
     "text": [
      "(119, 21, 26)\n",
      "(119, 21)\n",
      "[ 1.14526     1.12976802  1.70585289  2.36752227 -1.51482148  1.98880564\n",
      " -0.51625641  3.73475546 -2.03200486 -0.65745135 -2.88841777 -2.86634823\n",
      " -3.40833591 -1.41740303 -3.47647357 -2.4862791  -3.17732235 -0.1124001\n",
      " -3.29863836 -0.76008265  2.43653628 -1.94878238 -0.20278842 -1.08072219\n",
      "  0.24958378 -0.25336719 -3.89092861  2.88591138  0.62885301 -3.05984139\n",
      " -1.49832911 -4.38704583 -3.64754912 -1.67525232 -2.89899262  0.37054203\n",
      "  1.33235369  0.08370239  0.31693246 -0.76630047  0.00889135  0.17191475\n",
      "  0.52275147 -0.23680192 -0.11717197 -0.65302316  2.60783844  1.53863992\n",
      "  0.5510473  -1.82306392 -0.42787703  1.18403045 -1.48562395 -0.73116412\n",
      " -0.51294286 -1.30637946  0.54353463  3.90047851  2.57819974  0.54594276\n",
      "  0.77834694  2.02245104 -3.20175999  3.86637329  0.2460524  -0.16397211\n",
      " -1.09763313 -1.50777328 -0.28174013 -0.40576142 -4.36317136  2.97348751\n",
      " -0.56079321  0.8272811   2.70671365  0.38639063 -1.06445569 -2.23535244\n",
      " -1.78180568  2.81641492  0.83706123  2.17327696  1.19389813 -0.27803463\n",
      " -0.78984015 -0.54363953  0.68072131  0.96475906 -3.4365299  -0.22406872\n",
      " -4.06904337  3.83537983  2.10039532  0.67692594  5.1033694   5.07842193\n",
      " -1.00924864  1.17538259  3.62767694 -0.64838183  2.18795129  2.94422521\n",
      "  1.03435889  0.63315001 -2.06862948 -1.98864072 -1.41203233 -1.57812302\n",
      " -1.3108926   2.29176633 -0.12905216  2.43149235 -0.00640032  1.2537436\n",
      "  3.37752502  0.58440698 -0.21793419  1.25524425  0.99660059]\n"
     ]
    }
   ],
   "source": [
    "\n",
    "def area_mean(var,lat,lon,east,west,south,north):\n",
    "    '''\n",
    "    This function is to calculate the average mean of a rectangle area.\n",
    "    \n",
    "    Params:\n",
    "    var                     ::  3-D data with [time, lat, lon]\n",
    "    lat,lon                 ::  the coordinate of the variable\n",
    "    east,west,south,north   ::  The four boundry of a rectangle area in the unit of degree.\n",
    "    \n",
    "    Return:\n",
    "    The average values of the rectangle area in the sequence of time.\n",
    "\n",
    "    '''\n",
    "    \n",
    "    latS\t=\tlat >= south\n",
    "    latN\t=\tlat <= north\n",
    "    lonW\t=\tlon >= west\n",
    "    lonE\t=\tlon <= east\n",
    "    \n",
    "    lat_box\t=\tlat[latS&latN]\n",
    "    lon_box\t=\tlon[lonE&lonW]\n",
    "\n",
    "    var_box_temp\t=\tvar[:,latS&latN,:]\n",
    "    var_box\t=\tvar_box_temp[:,:,lonE&lonW]\n",
    "    \n",
    "    print(var_box.shape)\n",
    "\n",
    "    # First we need to convert the latitudes to radians\n",
    "    latr = np.deg2rad(lat_box)\n",
    "    # Use the cosine of the converted latitudes as weights for the average\n",
    "    weights = np.cos(lat_box)\n",
    "    # Assuming the shape of your data array is (nTimes, nLats, nLons)\n",
    "    # First find the zonal mean SST by averaging along the latitude circles\n",
    "    \n",
    "    var_ave_zonal = var_box.mean(axis=2)\n",
    "    print(var_ave_zonal.shape)\n",
    "\n",
    "    # Then take the weighted average of those using the weights we calculated earlier\n",
    "    var_ave = np.average(var_ave_zonal, axis=1, weights=weights)\n",
    "    return var_ave\n",
    "\n",
    "t2m_ano_DJF_SouthEast = area_mean(t2m_DJF,lat,lon,125,100,20,40)\n",
    "print(t2m_ano_DJF_SouthEast)"
   ]
  },
  {
   "cell_type": "code",
   "execution_count": null,
   "metadata": {},
   "outputs": [],
   "source": []
  }
 ],
 "metadata": {
  "kernelspec": {
   "display_name": "Python 3",
   "language": "python",
   "name": "python3"
  },
  "language_info": {
   "codemirror_mode": {
    "name": "ipython",
    "version": 3
   },
   "file_extension": ".py",
   "mimetype": "text/x-python",
   "name": "python",
   "nbconvert_exporter": "python",
   "pygments_lexer": "ipython3",
   "version": "3.7.3"
  }
 },
 "nbformat": 4,
 "nbformat_minor": 4
}
